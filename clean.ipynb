{
 "cells": [
  {
   "cell_type": "code",
   "execution_count": 34,
   "metadata": {},
   "outputs": [
    {
     "name": "stdout",
     "output_type": "stream",
     "text": [
      "The autoreload extension is already loaded. To reload it, use:\n",
      "  %reload_ext autoreload\n"
     ]
    }
   ],
   "source": [
    "import numpy as np\n",
    "import matplotlib.pyplot as plt\n",
    "import preprocessing as pp\n",
    "import implementations as imp\n",
    "import helpers as hlp\n",
    "import os\n",
    "from functions import *\n",
    "\n",
    "%load_ext autoreload\n",
    "%autoreload 2"
   ]
  },
  {
   "cell_type": "markdown",
   "metadata": {},
   "source": [
    "## Data cleaning and Preprocessing"
   ]
  },
  {
   "cell_type": "code",
   "execution_count": null,
   "metadata": {},
   "outputs": [],
   "source": [
    "path = \"/Users/maelynenguyen/Desktop/\"\n",
    "\n",
    "x_train_ = np.load(path+\"f_x_train_.npy\")\n",
    "x_test_ = np.load(path+\"f_x_test_.npy\")\n",
    "y_train_ = np.load(path+\"f_y_train_.npy\")\n",
    "test_ids = np.load(path+\"f_test_ids_.npy\")\n",
    "train_ids = np.load(path+\"f_train_ids_.npy\")"
   ]
  },
  {
   "cell_type": "code",
   "execution_count": 2,
   "metadata": {},
   "outputs": [],
   "source": [
    "path = os.getcwd() + '/dataset_to_release'\n",
    "x_train_, x_test_, y_train_, train_ids_, test_ids_ = hlp.load_csv_data(path)"
   ]
  },
  {
   "cell_type": "code",
   "execution_count": 108,
   "metadata": {},
   "outputs": [
    {
     "name": "stdout",
     "output_type": "stream",
     "text": [
      "Max median NaN score rows :  0.5688708393430034\n",
      "Max median NaN score columns :  0.7598051755967697\n",
      "Number of rows dropped because of a NaN score > 0.5:  29455\n",
      "Number of columns dropped because of a NaN score > 0.5:  149\n",
      "Number of columns with std < 0.1: 5\n",
      "Number of columns with correl_coef > 0.95: 19\n",
      "Handling NaN values...\n",
      "Number of columns with corr_coef> 0.95 after cleaning: 2\n",
      "The data has been cleaned and standardized\n",
      "The cleaned x-data has the following shape:  (298680, 146)\n",
      "The cleaned y-data has the following shape:  (298680,)\n",
      "The cleaned x-data-to-predict has the following shape:  (109379, 146)\n"
     ]
    }
   ],
   "source": [
    "x, x_submit, y = pp.clean_data(x_train_,  y_train_, x_test_)\n",
    "\n",
    "# important to add a constant term for the bias\n",
    "x_train = np.concatenate((x,np.zeros((x.shape[0],1))+1),axis=1)\n",
    "x_test = np.concatenate((x_submit,np.zeros((x_submit.shape[0],1))+1),axis=1)\n",
    "\n",
    "\n",
    "assert x.shape[1]+1 == x_train.shape[1]\n",
    "\n",
    "y_train = y.copy()\n",
    "y_train = np.where(y == -1, 0, 1)  # change -1 to 0\n",
    "y_train = y_train.astype(int)      # change to int\n"
   ]
  },
  {
   "cell_type": "markdown",
   "metadata": {},
   "source": [
    "## Logistic Regression"
   ]
  },
  {
   "cell_type": "markdown",
   "metadata": {},
   "source": [
    "### Test for specific hyperparameters"
   ]
  },
  {
   "cell_type": "code",
   "execution_count": 109,
   "metadata": {},
   "outputs": [],
   "source": [
    "w, loss, losses = imp.logistic_regression(y_train, x_train, np.zeros(x_train.shape[1]), 1500, 0.1, True)"
   ]
  },
  {
   "cell_type": "code",
   "execution_count": 110,
   "metadata": {},
   "outputs": [],
   "source": [
    "y_pred = imp.sigmoid(x_train@w)\n",
    "thr = best_threshold(y_pred,y) # y is (-1,1) and y_pred is (0,1)\n",
    "y_pred_ = np.where(y_pred > thr, 1, -1) # y_pred_ is (-1,1)"
   ]
  },
  {
   "cell_type": "code",
   "execution_count": 113,
   "metadata": {},
   "outputs": [
    {
     "data": {
      "text/plain": [
       "0.4131290271431249"
      ]
     },
     "execution_count": 113,
     "metadata": {},
     "output_type": "execute_result"
    }
   ],
   "source": [
    "f1_score_(y, y_pred_)"
   ]
  },
  {
   "cell_type": "markdown",
   "metadata": {},
   "source": [
    "### Implementing a Cross Validation in a Grid Search to find the best parameters"
   ]
  },
  {
   "cell_type": "code",
   "execution_count": 114,
   "metadata": {},
   "outputs": [],
   "source": [
    "param_grid = {\n",
    "    \"max_iters\": [1500],\n",
    "    \"gamma\": [1,0.1, 0.001],\n",
    "    \"lambda_\": [1e-4,1e-5,1e-6],\n",
    "}"
   ]
  },
  {
   "cell_type": "code",
   "execution_count": 77,
   "metadata": {},
   "outputs": [
    {
     "name": "stdout",
     "output_type": "stream",
     "text": [
      "Max Iters: 1500, Gamma: 1, Avg Loss: 0.2300075615646316\n",
      "Max Iters: 1500, Gamma: 0.1, Avg Loss: 0.23050654885438465\n",
      "Max Iters: 1500, Gamma: 0.001, Avg Loss: 0.48293189202025494\n"
     ]
    }
   ],
   "source": [
    "w_grid, best_params, losses = grid_search_logistic_regression(y_train, x_train, param_grid, np.zeros(x_train.shape[1]))\n"
   ]
  },
  {
   "cell_type": "code",
   "execution_count": 78,
   "metadata": {},
   "outputs": [
    {
     "name": "stdout",
     "output_type": "stream",
     "text": [
      "Best hyperparameters found:  {'max_iters': 1500, 'gamma': 1}\n"
     ]
    }
   ],
   "source": [
    "print(\"Best hyperparameters found: \", best_params)"
   ]
  },
  {
   "cell_type": "code",
   "execution_count": 79,
   "metadata": {},
   "outputs": [
    {
     "name": "stdout",
     "output_type": "stream",
     "text": [
      "Optimal threshold found:  0.2\n"
     ]
    }
   ],
   "source": [
    "y_train_pred = imp.sigmoid(x_train@w_grid) # y_train_pred is (0,1)\n",
    "optimal_threshold = best_threshold(y_train_pred,y) \n",
    "print(\"Optimal threshold found: \", optimal_threshold)\n"
   ]
  },
  {
   "cell_type": "code",
   "execution_count": 82,
   "metadata": {},
   "outputs": [],
   "source": [
    "y_pred = imp.sigmoid(x_test@w_grid)\n",
    "y_pred_ = np.where(y_pred > optimal_threshold, 1, -1)\n",
    "hlp.create_csv_submission(test_ids_, y_pred_, \"logistic_regression24102147.csv\")"
   ]
  },
  {
   "cell_type": "markdown",
   "metadata": {},
   "source": [
    "### Testing of an Adam optimizer "
   ]
  },
  {
   "cell_type": "code",
   "execution_count": 116,
   "metadata": {},
   "outputs": [],
   "source": [
    "w_adam = adam_optimizer(y_train, x_train, np.zeros(x_train.shape[1]), 1500, 0.1)\n",
    "\n",
    "y_train_adam = imp.sigmoid(np.dot(x_train, w_adam)) \n",
    "optimal_threshold = best_threshold(y_train_adam, y) # y_train is (-1,1) and y_train_adam is (0,1)\n",
    "\n",
    "y_pred_adam = imp.sigmoid(np.dot(x_test, w_adam))\n",
    "y_pred_adam  = np.where(y_pred_adam > optimal_threshold , 1, -1)\n",
    "\n",
    "hlp.create_csv_submission(test_ids_, y_pred_adam, \"y_pred_adam25101206.csv\")"
   ]
  }
 ],
 "metadata": {
  "kernelspec": {
   "display_name": "MLCourse1",
   "language": "python",
   "name": "python3"
  },
  "language_info": {
   "codemirror_mode": {
    "name": "ipython",
    "version": 3
   },
   "file_extension": ".py",
   "mimetype": "text/x-python",
   "name": "python",
   "nbconvert_exporter": "python",
   "pygments_lexer": "ipython3",
   "version": "3.11.0"
  }
 },
 "nbformat": 4,
 "nbformat_minor": 2
}
