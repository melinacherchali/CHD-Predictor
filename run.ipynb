{
 "cells": [
  {
   "cell_type": "code",
   "execution_count": 1,
   "metadata": {},
   "outputs": [],
   "source": [
    "import numpy as np\n",
    "import matplotlib.pyplot as plt\n",
    "import preprocessing as pp\n",
    "import implementations as imp\n",
    "import helpers as hlp\n",
    "from functions import *\n",
    "import os\n",
    "\n",
    "%load_ext autoreload\n",
    "%autoreload 2"
   ]
  },
  {
   "cell_type": "code",
   "execution_count": 2,
   "metadata": {},
   "outputs": [],
   "source": [
    "path = os.getcwd() + \"/dataset_to_release/\"\n",
    "x_train_, x_test_, y_train_, train_ids_, test_ids_ = hlp.load_csv_data(path)"
   ]
  },
  {
   "cell_type": "code",
   "execution_count": 3,
   "metadata": {},
   "outputs": [
    {
     "name": "stdout",
     "output_type": "stream",
     "text": [
      "Unknown values replaced with NaN, according to the documentation\n",
      "Max median NaN score rows :  0.6060963867246555\n",
      "Max median NaN score columns :  0.7652518774030354\n",
      "Number of rows dropped because of a NaN score > 0.5:  37081\n",
      "Number of columns dropped because of a NaN score > 0.5:  150\n",
      "Number of columns with std < 0.1: 5\n",
      "Number of columns with correl_coef > 0.95: 11\n",
      "Handling NaN values...\n",
      "Data clipped between 5th and 95th percentiles\n",
      "Number of columns with std < 0.1 after cleaning: 11\n",
      "Number of columns with corr_coef> 0.95 after cleaning: 14\n",
      "The data has been cleaned and standardized\n",
      "The cleaned x_train data has the following shape:  (291054, 130)\n",
      "The cleaned y_train has the following shape:  (291054,)\n",
      "The cleaned x_test has the following shape:  (109379, 130)\n"
     ]
    }
   ],
   "source": [
    "x, x_submit, y = pp.clean_data_final(x_train_, y_train_, x_test_)\n",
    "\n",
    "X_train = np.concatenate((x, np.zeros((x.shape[0], 1)) + 1), axis=1)\n",
    "X_test = np.concatenate((x_submit, np.zeros((x_submit.shape[0], 1)) + 1), axis=1)\n",
    "\n",
    "\n",
    "assert x.shape[1] + 1 == X_train.shape[1]\n",
    "\n",
    "Y_train = y.copy()\n",
    "Y_train = np.where(y == -1, 0, 1)\n",
    "Y_train = Y_train.astype(int)"
   ]
  },
  {
   "cell_type": "markdown",
   "metadata": {},
   "source": [
    "# Adam Optimizer"
   ]
  },
  {
   "cell_type": "code",
   "execution_count": 6,
   "metadata": {},
   "outputs": [],
   "source": [
    "w_adam, loss_adam = adam_optimizer(\n",
    "    Y_train, X_train, np.zeros(X_train.shape[1]), 1500, 0.1, 0.9, 0.999, 1e-08\n",
    ")"
   ]
  },
  {
   "cell_type": "code",
   "execution_count": 7,
   "metadata": {},
   "outputs": [
    {
     "name": "stdout",
     "output_type": "stream",
     "text": [
      "Optimal Threshold for Adam 0.2\n"
     ]
    }
   ],
   "source": [
    "y_train_adam = imp.sigmoid(np.dot(X_train, w_adam))\n",
    "optimal_threshold = best_threshold(y_train_adam, y)\n",
    "print(\"Optimal Threshold for Adam\", optimal_threshold)"
   ]
  },
  {
   "cell_type": "code",
   "execution_count": 8,
   "metadata": {},
   "outputs": [],
   "source": [
    "y_test_adam = imp.sigmoid(np.dot(X_test, w_adam))\n",
    "y_test_adam = np.where(y_test_adam > optimal_threshold, 1, -1)"
   ]
  },
  {
   "cell_type": "code",
   "execution_count": 9,
   "metadata": {},
   "outputs": [],
   "source": [
    "hlp.create_csv_submission(test_ids_, y_test_adam, \"final_pred.csv\")"
   ]
  }
 ],
 "metadata": {
  "kernelspec": {
   "display_name": "MLCourse1",
   "language": "python",
   "name": "python3"
  },
  "language_info": {
   "codemirror_mode": {
    "name": "ipython",
    "version": 3
   },
   "file_extension": ".py",
   "mimetype": "text/x-python",
   "name": "python",
   "nbconvert_exporter": "python",
   "pygments_lexer": "ipython3",
   "version": "3.10.8"
  }
 },
 "nbformat": 4,
 "nbformat_minor": 2
}
