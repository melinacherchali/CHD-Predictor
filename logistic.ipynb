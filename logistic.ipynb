{
 "cells": [
  {
   "cell_type": "code",
   "execution_count": 1,
   "metadata": {},
   "outputs": [],
   "source": [
    "import numpy as np\n",
    "import matplotlib.pyplot as plt\n",
    "import preprocessing as pp\n",
    "import implementations as imp\n",
    "import helpers as hlp\n",
    "import os\n",
    "from functions import *\n",
    "import csv\n",
    "\n",
    "%load_ext autoreload\n",
    "%autoreload 2"
   ]
  },
  {
   "cell_type": "markdown",
   "metadata": {},
   "source": [
    "## Data cleaning and Preprocessing"
   ]
  },
  {
   "cell_type": "code",
   "execution_count": 10,
   "metadata": {},
   "outputs": [],
   "source": [
    "path = os.getcwd() + \"/dataset_to_release/\"\n",
    "\n",
    "x_train_, x_test_, y_train_, train_ids_, test_ids_ = hlp.load_csv_data(path)"
   ]
  },
  {
   "cell_type": "code",
   "execution_count": 12,
   "metadata": {},
   "outputs": [
    {
     "name": "stdout",
     "output_type": "stream",
     "text": [
      "Unknown values replaced with NaN\n",
      "Max median NaN score rows :  0.6060963867246555\n",
      "Max median NaN score columns :  0.7652518774030354\n",
      "Number of rows dropped because of a NaN score > 0.5:  37081\n",
      "Number of columns dropped because of a NaN score > 0.5:  150\n",
      "Number of columns with std < 0.1: 5\n",
      "Number of columns with correl_coef > 0.95: 11\n",
      "Handling NaN values...\n",
      "Data clipped between 5th and 95th percentiles\n",
      "Number of columns with std < 0.1 after cleaning: 11\n",
      "Number of columns with corr_coef> 0.95 after cleaning: 14\n",
      "The data has been cleaned and standardized\n",
      "The cleaned x-data has the following shape:  (291054, 130)\n",
      "The cleaned y-data has the following shape:  (291054,)\n",
      "The cleaned x-data-to-predict has the following shape:  (109379, 130)\n"
     ]
    }
   ],
   "source": [
    "x, x_submit, y = pp.clean_data_final(x_train_, y_train_, x_test_)\n",
    "\n",
    "# important to add a constant term for the bias for logistic regression\n",
    "x_train = np.concatenate((x, np.zeros((x.shape[0], 1)) + 1), axis=1)\n",
    "x_test = np.concatenate((x_submit, np.zeros((x_submit.shape[0], 1)) + 1), axis=1)\n",
    "\n",
    "\n",
    "assert x.shape[1] + 1 == x_train.shape[1]\n",
    "\n",
    "y_train = y.copy()\n",
    "y_train = np.where(y == -1, 0, 1)  # change -1 to 0\n",
    "y_train = y_train.astype(int)  # change to int"
   ]
  },
  {
   "cell_type": "markdown",
   "metadata": {},
   "source": [
    "## Logistic Regression"
   ]
  },
  {
   "cell_type": "markdown",
   "metadata": {},
   "source": [
    "### Test for specific hyperparameters"
   ]
  },
  {
   "cell_type": "code",
   "execution_count": 13,
   "metadata": {},
   "outputs": [],
   "source": [
    "w, loss, losses = imp.logistic_regression(\n",
    "    y_train, x_train, np.zeros(x_train.shape[1]), 1500, 0.1, True\n",
    ")"
   ]
  },
  {
   "cell_type": "code",
   "execution_count": 14,
   "metadata": {},
   "outputs": [],
   "source": [
    "y_pred = imp.sigmoid(x_train @ w)\n",
    "thr = best_threshold(y_pred, y)  # y is (-1,1) and y_pred is (0,1)\n",
    "y_pred_ = np.where(y_pred > thr, 1, -1)  # y_pred_ is (-1,1)"
   ]
  },
  {
   "cell_type": "code",
   "execution_count": 15,
   "metadata": {},
   "outputs": [
    {
     "data": {
      "text/plain": [
       "0.41686046511627906"
      ]
     },
     "execution_count": 15,
     "metadata": {},
     "output_type": "execute_result"
    }
   ],
   "source": [
    "f1_score_(y, y_pred_)"
   ]
  },
  {
   "cell_type": "markdown",
   "metadata": {},
   "source": [
    "### Implementing a Cross Validation in a Grid Search to find the best parameters"
   ]
  },
  {
   "cell_type": "code",
   "execution_count": 16,
   "metadata": {},
   "outputs": [],
   "source": [
    "param_grid = {\n",
    "    \"max_iters\": [1500],\n",
    "    \"gamma\": [1, 0.1, 0.001],\n",
    "    \"lambda_\": [1e-4, 1e-5, 1e-6],\n",
    "}"
   ]
  },
  {
   "cell_type": "code",
   "execution_count": 39,
   "metadata": {},
   "outputs": [
    {
     "name": "stdout",
     "output_type": "stream",
     "text": [
      "Max Iters: 1500, Gamma: 1, Avg Loss: 0.22977808706011765\n",
      "Max Iters: 1500, Gamma: 0.1, Avg Loss: 0.22991349322823157\n",
      "Max Iters: 1500, Gamma: 0.001, Avg Loss: 0.4900182968043444\n"
     ]
    }
   ],
   "source": [
    "w_grid, best_params, losses = grid_search_logistic_regression(\n",
    "    y_train, x_train, param_grid, np.zeros(x_train.shape[1])\n",
    ")"
   ]
  },
  {
   "cell_type": "code",
   "execution_count": 40,
   "metadata": {},
   "outputs": [
    {
     "name": "stdout",
     "output_type": "stream",
     "text": [
      "Best hyperparameters found:  {'max_iters': 1500, 'gamma': 1}\n"
     ]
    }
   ],
   "source": [
    "print(\"Best hyperparameters found: \", best_params)"
   ]
  },
  {
   "cell_type": "code",
   "execution_count": 41,
   "metadata": {},
   "outputs": [
    {
     "name": "stdout",
     "output_type": "stream",
     "text": [
      "Optimal threshold found:  0.19\n"
     ]
    }
   ],
   "source": [
    "y_train_pred = imp.sigmoid(x_train @ w_grid)  # y_train_pred is (0,1)\n",
    "optimal_threshold = best_threshold(y_train_pred, y)\n",
    "print(\"Optimal threshold found: \", optimal_threshold)"
   ]
  },
  {
   "cell_type": "code",
   "execution_count": 42,
   "metadata": {},
   "outputs": [],
   "source": [
    "y_pred = imp.sigmoid(x_test @ w_grid)\n",
    "y_pred_ = np.where(y_pred > optimal_threshold, 1, -1)\n",
    "hlp.create_csv_submission(test_ids_, y_pred_, \"logistic_regression24102147.csv\")"
   ]
  },
  {
   "cell_type": "markdown",
   "metadata": {},
   "source": [
    "### Testing of an Adam optimizer "
   ]
  },
  {
   "cell_type": "code",
   "execution_count": 59,
   "metadata": {},
   "outputs": [],
   "source": [
    "w_adam = adam_optimizer(y_train, x_train, np.zeros(x_train.shape[1]), 1500, 0.1)\n",
    "\n",
    "y_train_adam = imp.sigmoid(np.dot(x_train, w_adam))\n",
    "optimal_threshold = best_threshold(\n",
    "    y_train_adam, y\n",
    ")  # y_train is (-1,1) and y_train_adam is (0,1)\n",
    "\n",
    "y_pred_adam = imp.sigmoid(np.dot(x_test, w_adam))\n",
    "y_pred_adam = np.where(y_pred_adam > optimal_threshold, 1, -1)\n",
    "\n",
    "hlp.create_csv_submission(test_ids_, y_pred_adam, \"adam_final.csv\")"
   ]
  },
  {
   "cell_type": "markdown",
   "metadata": {},
   "source": [
    "### Logistic Regression with Regularization "
   ]
  },
  {
   "cell_type": "code",
   "execution_count": 45,
   "metadata": {},
   "outputs": [
    {
     "name": "stdout",
     "output_type": "stream",
     "text": [
      "Max Iters: 1500, Gamma: 1, Lambda: 0.0001, Avg Loss: 0.2297606158482602\n",
      "Max Iters: 1500, Gamma: 1, Lambda: 1e-05, Avg Loss: 0.22976041756546514\n",
      "Max Iters: 1500, Gamma: 1, Lambda: 1e-06, Avg Loss: 0.2297616920874618\n",
      "Max Iters: 1500, Gamma: 0.1, Lambda: 0.0001, Avg Loss: 0.22993585946287043\n",
      "Max Iters: 1500, Gamma: 0.1, Lambda: 1e-05, Avg Loss: 0.2298919415847535\n",
      "Max Iters: 1500, Gamma: 0.1, Lambda: 1e-06, Avg Loss: 0.22988811346281293\n",
      "Max Iters: 1500, Gamma: 0.001, Lambda: 0.0001, Avg Loss: 0.4900305808722318\n",
      "Max Iters: 1500, Gamma: 0.001, Lambda: 1e-05, Avg Loss: 0.4900109562359458\n",
      "Max Iters: 1500, Gamma: 0.001, Lambda: 1e-06, Avg Loss: 0.49000899364689304\n"
     ]
    }
   ],
   "source": [
    "w_reg, best_params, losses = grid_search_reg_logistic_regression(\n",
    "    y_train, x_train, param_grid, np.zeros(x_train.shape[1])\n",
    ")\n",
    "# w_reg, loss_reg = imp.reg_logistic_regression(y_train, x_train, 1e-6, np.zeros(x_train.shape[1]), 1500, 0.1)"
   ]
  },
  {
   "cell_type": "code",
   "execution_count": 46,
   "metadata": {},
   "outputs": [
    {
     "name": "stdout",
     "output_type": "stream",
     "text": [
      "Best hyperparameters found:  {'max_iters': 1500, 'gamma': 1, 'lambda_': 1e-05}\n"
     ]
    }
   ],
   "source": [
    "print(\"Best hyperparameters found: \", best_params)"
   ]
  },
  {
   "cell_type": "code",
   "execution_count": 47,
   "metadata": {},
   "outputs": [
    {
     "name": "stdout",
     "output_type": "stream",
     "text": [
      "Optimal threshold found for the regularized model:  0.19\n"
     ]
    }
   ],
   "source": [
    "y_train_reg = imp.sigmoid(np.dot(x_train, w_reg))\n",
    "optimal_threshold_reg = best_threshold(\n",
    "    y_train_reg, y\n",
    ")  # y_train is (-1,1) and y_train_reg is (0,1)\n",
    "print(\"Optimal threshold found for the regularized model: \", optimal_threshold_reg)"
   ]
  },
  {
   "cell_type": "code",
   "execution_count": 48,
   "metadata": {},
   "outputs": [],
   "source": [
    "y_pred_reg = imp.sigmoid(np.dot(x_test, w_reg))\n",
    "y_pred_reg = np.where(y_pred_reg > optimal_threshold_reg, 1, -1)\n",
    "\n",
    "hlp.create_csv_submission(test_ids_, y_pred_reg, \"y_pred_reg27101206.csv\")"
   ]
  }
 ],
 "metadata": {
  "kernelspec": {
   "display_name": "MLCourse1",
   "language": "python",
   "name": "python3"
  },
  "language_info": {
   "codemirror_mode": {
    "name": "ipython",
    "version": 3
   },
   "file_extension": ".py",
   "mimetype": "text/x-python",
   "name": "python",
   "nbconvert_exporter": "python",
   "pygments_lexer": "ipython3",
   "version": "3.11.0"
  }
 },
 "nbformat": 4,
 "nbformat_minor": 2
}
