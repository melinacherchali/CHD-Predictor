{
 "cells": [
  {
   "cell_type": "code",
   "execution_count": 6,
   "metadata": {},
   "outputs": [],
   "source": [
    "import numpy as np\n",
    "import matplotlib.pyplot as plt\n",
    "import preprocessing as pp\n",
    "import implementations as imp"
   ]
  },
  {
   "cell_type": "markdown",
   "metadata": {},
   "source": [
    "# Import Data Sets\n"
   ]
  },
  {
   "cell_type": "code",
   "execution_count": 7,
   "metadata": {},
   "outputs": [],
   "source": [
    "path=\"/Users/leocusumano/myCloud/EPFL/MA1/ML/Proj1/DATASETS/f_sets/\"\n",
    "\n",
    "x_train=np.load(path+\"f_x_train_.npy\")\n",
    "x_test=np.load(path+\"f_x_test_.npy\")\n",
    "y_train=np.load(path+\"f_y_train_.npy\")\n",
    "test_ids=np.load(path+\"f_test_ids_.npy\")\n",
    "train_ids=np.load(path+\"f_train_ids_.npy\")"
   ]
  },
  {
   "cell_type": "code",
   "execution_count": 8,
   "metadata": {},
   "outputs": [
    {
     "name": "stdout",
     "output_type": "stream",
     "text": [
      "Number of rows dropped because of a NaN score > 0.8:  71344\n",
      "Number of columns dropped because of a NaN score > 0.8:  121\n",
      "Number of columns with std < 0.1: 8\n",
      "Number of columns with correl_coef > 0.95: 19\n",
      "Handling NaN values...\n",
      "Number of columns with corr_coef> 0.95 after cleaning: 2\n",
      "The data has been cleaned and standardized\n",
      "The cleaned x-data has the following shape:  (256791, 171)\n",
      "The cleaned y-data has the following shape:  (256791,)\n",
      "The cleaned x-data-to-predict has the following shape:  (109379, 171)\n"
     ]
    }
   ],
   "source": [
    "\n",
    "x,x_t,y=pp.Edited_clean_data(x_train,y_train,x_test,correlation_thr=.95,nan_thr=.8,std_thr=0.1)\n",
    "\n",
    "X,Y,X_T,Y_T=pp.split_data(x,y,.8)"
   ]
  },
  {
   "cell_type": "markdown",
   "metadata": {},
   "source": [
    "# Logistic"
   ]
  },
  {
   "cell_type": "code",
   "execution_count": 9,
   "metadata": {},
   "outputs": [],
   "source": [
    "param_grid = {\n",
    "    \"max_iters\": [500, 1000, 1500],\n",
    "    \"gamma\": [0.001, 0.01, 0.1],\n",
    "    \"lambda_\": [0.01, 0.1, 1],\n",
    "}"
   ]
  },
  {
   "cell_type": "code",
   "execution_count": 10,
   "metadata": {},
   "outputs": [
    {
     "name": "stdout",
     "output_type": "stream",
     "text": [
      "Loss: 0.43139030377581666\n"
     ]
    },
    {
     "name": "stderr",
     "output_type": "stream",
     "text": [
      "/Users/leocusumano/myCloud/EPFL/MA1/ML/Proj1/ML-proj1/implementations.py:342: RuntimeWarning: divide by zero encountered in log\n",
      "  * np.sum(y * np.log(sigmoid(tx @ w)) + (1 - y) * np.log(1 - sigmoid(tx @ w)))\n",
      "/Users/leocusumano/myCloud/EPFL/MA1/ML/Proj1/ML-proj1/implementations.py:342: RuntimeWarning: invalid value encountered in multiply\n",
      "  * np.sum(y * np.log(sigmoid(tx @ w)) + (1 - y) * np.log(1 - sigmoid(tx @ w)))\n"
     ]
    },
    {
     "name": "stdout",
     "output_type": "stream",
     "text": [
      "Loss: nan\n",
      "Loss: nan\n",
      "Loss: 0.2661288555019352\n",
      "Loss: nan\n",
      "Loss: nan\n",
      "Loss: 0.13395547104010802\n",
      "Loss: nan\n",
      "Loss: nan\n",
      "Best hyperparameters found:  {'max_iters': 1500, 'gamma': 0.001}\n"
     ]
    }
   ],
   "source": [
    "best_params_log = None\n",
    "best_score_log = float(\"inf\")\n",
    "w_initial = np.zeros(X.shape[1])\n",
    "best_w_log = w_initial\n",
    "\n",
    "for max_iters in param_grid[\"max_iters\"]:\n",
    "    for gamma in param_grid[\"gamma\"]:\n",
    "            w, loss = imp.logistic_regression(Y, X, w_initial, max_iters, gamma)\n",
    "            print(\"Loss:\", loss)\n",
    "            if loss < best_score_log:\n",
    "                best_score_log = loss\n",
    "                best_w_log = w\n",
    "                best_params_log = {\n",
    "                    \"max_iters\": max_iters,\n",
    "                    \"gamma\": gamma,\n",
    "                }\n",
    "                \n",
    "                \n",
    "print(\"Best hyperparameters found: \", best_params_log)"
   ]
  },
  {
   "cell_type": "code",
   "execution_count": 17,
   "metadata": {},
   "outputs": [],
   "source": [
    "w_tot, loss_tot = imp.logistic_regression(y, x, w_initial, 1500, 0.001)"
   ]
  },
  {
   "cell_type": "code",
   "execution_count": 22,
   "metadata": {},
   "outputs": [
    {
     "name": "stdout",
     "output_type": "stream",
     "text": [
      "Optimal Threshold based on F1 score: 0.49 F1 score: 0.3021654567012668\n"
     ]
    }
   ],
   "source": [
    "from sklearn.metrics import f1_score,roc_auc_score,roc_curve\n",
    "\n",
    "# Compute the predicted probabilities\n",
    "y_pred_proba = imp.sigmoid(x @ w_tot)\n",
    "\n",
    "# Search for the best threshold\n",
    "thresholds = np.arange(0.0, 1.0, 0.01)\n",
    "f1_scores = []\n",
    "\n",
    "for threshold in thresholds:\n",
    "    y_pred_log = np.where(y_pred_proba > threshold, 1, -1)\n",
    "    f1 = f1_score(y, y_pred_log)\n",
    "    f1_scores.append(f1)\n",
    "\n",
    "# Find the threshold with the highest F1 score\n",
    "optimal_threshold = thresholds[np.argmax(f1_scores)]\n",
    "print(\"Optimal Threshold based on F1 score:\", optimal_threshold, \"F1 score:\", np.max(f1_scores))\n",
    "\n",
    "\n",
    "\n"
   ]
  },
  {
   "cell_type": "code",
   "execution_count": 24,
   "metadata": {},
   "outputs": [],
   "source": [
    "import helpers as hlp"
   ]
  },
  {
   "cell_type": "code",
   "execution_count": 27,
   "metadata": {},
   "outputs": [],
   "source": [
    "y_sub = imp.sigmoid(x_t @ w_tot)\n",
    "y_sub = np.where(y_sub > .49, 1, -1)\n",
    "\n",
    "hlp.create_csv_submission(test_ids, y_sub, \"/Users/leocusumano/myCloud/EPFL/MA1/ML/Proj1/DATASETS/y_pred_logg.csv\")\n",
    "\n"
   ]
  }
 ],
 "metadata": {
  "kernelspec": {
   "display_name": "base",
   "language": "python",
   "name": "python3"
  },
  "language_info": {
   "codemirror_mode": {
    "name": "ipython",
    "version": 3
   },
   "file_extension": ".py",
   "mimetype": "text/x-python",
   "name": "python",
   "nbconvert_exporter": "python",
   "pygments_lexer": "ipython3",
   "version": "3.10.12"
  }
 },
 "nbformat": 4,
 "nbformat_minor": 2
}
